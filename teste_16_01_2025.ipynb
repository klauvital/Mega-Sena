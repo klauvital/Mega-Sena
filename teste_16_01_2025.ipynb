{
 "cells": [
  {
   "cell_type": "code",
   "execution_count": 58,
   "metadata": {},
   "outputs": [
    {
     "name": "stdout",
     "output_type": "stream",
     "text": [
      "Requirement already satisfied: datetime in c:\\users\\claud\\appdata\\local\\programs\\python\\python313\\lib\\site-packages (5.5)\n",
      "Requirement already satisfied: zope.interface in c:\\users\\claud\\appdata\\local\\programs\\python\\python313\\lib\\site-packages (from datetime) (7.2)\n",
      "Requirement already satisfied: pytz in c:\\users\\claud\\appdata\\local\\programs\\python\\python313\\lib\\site-packages (from datetime) (2024.2)\n",
      "Requirement already satisfied: setuptools in c:\\users\\claud\\appdata\\local\\programs\\python\\python313\\lib\\site-packages (from zope.interface->datetime) (75.8.0)\n"
     ]
    },
    {
     "name": "stderr",
     "output_type": "stream",
     "text": [
      "\n",
      "[notice] A new release of pip is available: 24.2 -> 24.3.1\n",
      "[notice] To update, run: python.exe -m pip install --upgrade pip\n"
     ]
    },
    {
     "name": "stdout",
     "output_type": "stream",
     "text": [
      "Requirement already satisfied: numpy in c:\\users\\claud\\appdata\\local\\programs\\python\\python313\\lib\\site-packages (2.1.3)\n"
     ]
    },
    {
     "name": "stderr",
     "output_type": "stream",
     "text": [
      "\n",
      "[notice] A new release of pip is available: 24.2 -> 24.3.1\n",
      "[notice] To update, run: python.exe -m pip install --upgrade pip\n"
     ]
    }
   ],
   "source": [
    "# ! pip install datetime\n",
    "# ! pip install numpy\n"
   ]
  },
  {
   "cell_type": "code",
   "execution_count": 1,
   "metadata": {},
   "outputs": [
    {
     "name": "stdout",
     "output_type": "stream",
     "text": [
      "Array com os dígitos: [2 8 1 7]\n"
     ]
    }
   ],
   "source": [
    "import numpy as np\n",
    "\n",
    "# Solicitar um número de 4 dígitos\n",
    "numero = int(input(\"Digite um número de 4 dígitos: \"))\n",
    "\n",
    "# Converter o número para uma string\n",
    "numero_str = str(numero)\n",
    "\n",
    "# Criar um array numpy com os dígitos\n",
    "array_digitos = np.array([int(digito) for digito in numero_str])\n",
    "\n",
    "# Exibir o array\n",
    "print(\"Array com os dígitos:\", array_digitos)\n"
   ]
  },
  {
   "cell_type": "code",
   "execution_count": 2,
   "metadata": {},
   "outputs": [
    {
     "name": "stdout",
     "output_type": "stream",
     "text": [
      "Número do concurso: [2 8 1 5]\n",
      "Data atual [16  1  2  0  2  5]\n",
      "Data de nascimento [4 2 1 9 6 7]\n",
      "Junção dos 3 arrays - [ 2  8  1  5 16  1  2  0  2  5  4  2  1  9  6  7]\n",
      "Números soma2, soma3, soma4, soma2(novamente) e de 3(novamente) no resultado [10  6 17  2  7  6 10 13 11 22  4 11 10 13 16 19 13 23 16 19 13 23 33 15\n",
      " 23 35 36 33 15 34 37 39 55 48 71 94]\n",
      "[33 34 22  6 23 35]\n",
      "[55 15 33 22 23 35]\n",
      "[37 35 11 34 15  4]\n"
     ]
    }
   ],
   "source": [
    "from datetime import date\n",
    "import numpy as np\n",
    "\n",
    "#concurso = int(input('Digite o concurso: '))\n",
    "concurso = 2815\n",
    "# Converter o número para uma string\n",
    "concurso_str = str(concurso)\n",
    "concurso_array_digitos = np.array([int(digito) for digito in concurso_str])\n",
    "\n",
    "# Exibir o array\n",
    "print(\"Número do concurso:\", concurso_array_digitos)\n",
    "\n",
    "data_atual = date.today()\n",
    "data_em_texto = '{}/{}/{}'.format(data_atual.day, data_atual.month, data_atual.year)\n",
    "\n",
    "ano_string = str(data_atual.year)\n",
    "# Criar um array de números inteiros a partir dos dígitos do ano\n",
    "digitos_ano_atual = np.array([int(digito) for digito in str(ano_string)])\n",
    "\n",
    "\n",
    "array_hoje = np.concatenate(([data_atual.day, data_atual.month], digitos_ano_atual))\n",
    "\n",
    "print(f'Data atual {array_hoje}')\n",
    "\n",
    "\n",
    "#dia_nasc = int(input(\"Digite sua dia do nascimento:\"))\n",
    "#mes_nasc = int(input(\"Digite o mês de nascimento:\"))\n",
    "#ano_nasc = int(input(\"Digite o ano de nascimento:\"))\n",
    "\n",
    "dia_nasc = int(4)\n",
    "mes_nasc = int(2)\n",
    "ano_nasc = int(1967)\n",
    "\n",
    "\n",
    "# Criar um array de números inteiros a partir dos dígitos do ano\n",
    "digitos_ano_nasc = np.array([int(digito) for digito in str(ano_nasc)])\n",
    "array_data_nasc = np.concatenate(([dia_nasc, mes_nasc], digitos_ano_nasc))\n",
    "print(f'Data de nascimento {array_data_nasc}')\n",
    "\n",
    "\n",
    "numeros_do_sorteio = np.concatenate((concurso_array_digitos, array_hoje , array_data_nasc))\n",
    "print(f'Junção dos 3 arrays - {numeros_do_sorteio}')\n",
    "\n",
    "\n",
    "# Somar os elementos de dois em dois, considerando que o último elemento é somado a 0\n",
    "somas_2 = numeros_do_sorteio[::2] + numeros_do_sorteio[1::2]\n",
    "\n",
    "# Se o tamanho do array for ímpar, somar o último elemento com 0\n",
    "if len(numeros_do_sorteio) % 2 != 0:\n",
    "    somas_2 = np.append(somas_2, numeros_do_sorteio[-1])\n",
    "\n",
    "# Exibir o resultado\n",
    "#print(\"Somas de dois em dois (com último elemento separado):\", somas_2)\n",
    "\n",
    "# Somar os elementos de três em três\n",
    "# Dividindo os elementos em blocos de tamanho 3\n",
    "blocos = np.array_split(numeros_do_sorteio, np.ceil(len(numeros_do_sorteio) / 3))\n",
    "\n",
    "# Somando os elementos de cada bloco\n",
    "somas_3 = [np.sum(bloco) for bloco in blocos]\n",
    "\n",
    "#print(\"Somas de três em três:\", somas_3)\n",
    "\n",
    "\n",
    "numeros_soma2_soma3 = np.concatenate((somas_2, somas_3))\n",
    "#print(f'Números soma2 e soma3 {numeros_soma2_soma3}')\n",
    "\n",
    "# Dividindo os elementos em blocos de tamanho 4\n",
    "blocos = np.array_split(numeros_do_sorteio, np.ceil(len(numeros_do_sorteio) / 4))\n",
    "\n",
    "# Somando os elementos de cada bloco\n",
    "somas_4 = [np.sum(bloco) for bloco in blocos]\n",
    "\n",
    "#print(\"Somas de quatro em quatro:\", somas_4)\n",
    "\n",
    "\n",
    "numeros_soma2_soma3_soma4 = np.concatenate((numeros_soma2_soma3, somas_4 ))\n",
    "#print(f'Números soma2 e soma3 e soma4{numeros_soma2_soma3_soma4}')\n",
    "\n",
    "# Dividindo os elementos em blocos de tamanho 2\n",
    "blocos = np.array_split(numeros_soma2_soma3_soma4, np.ceil(len(numeros_soma2_soma3_soma4) / 2))\n",
    "\n",
    "# Somando os elementos de cada bloco\n",
    "somas_2_novamente = [np.sum(bloco) for bloco in blocos]\n",
    "\n",
    "#print(\"Somas de três em três:\", somas_2_novamente)\n",
    "\n",
    "numeros_soma2_soma3_soma4_soma_2 = np.concatenate((numeros_soma2_soma3_soma4, somas_2_novamente))\n",
    "\n",
    "# Dividindo os elementos em blocos de tamanho 3\n",
    "blocos = np.array_split(numeros_soma2_soma3_soma4_soma_2, np.ceil(len(numeros_soma2_soma3_soma4_soma_2) / 3))\n",
    "\n",
    "# Somando os elementos de cada bloco\n",
    "somas_3_novamente = [np.sum(bloco) for bloco in blocos]\n",
    "\n",
    "#print(\"Somas de três em três:\", somas_3_novamente)\n",
    "\n",
    "\n",
    "numeros_soma2_soma3_soma4_soma_2_soma_3 = np.concatenate((numeros_soma2_soma3_soma4_soma_2, somas_3_novamente))\n",
    "print(f'Números soma2, soma3, soma4, soma2(novamente) e de 3(novamente) no resultado {numeros_soma2_soma3_soma4_soma_2_soma_3}')\n",
    "\n",
    "# Filtrar os números menores ou iguais a 60\n",
    "numeros_validos = numeros_soma2_soma3_soma4_soma_2_soma_3[numeros_soma2_soma3_soma4_soma_2_soma_3 <= 60]\n",
    "\n",
    "# Gerar 6 números aleatórios únicos\n",
    "cont = 1\n",
    "while cont <= 3:\n",
    "    numeros_aleatorios = np.random.choice(numeros_validos, size=6, replace=False)\n",
    "    print(numeros_aleatorios)\n",
    "    cont += 1\n",
    "\n",
    "\n",
    "\n",
    "\n",
    "#rng = np.random.default_rng()\n",
    "#numeros_possiveis = rng.integers(numeros_do_sorteio, size=6)\n",
    "#print(numeros_possiveis)\n",
    "\n",
    "\n",
    "\n",
    "#rng = np.random.default_rng(seed=42) #seed=42 trava a resposta\n",
    "#rng = np.random.default_rng()\n",
    "#numeros_possiveis = rng.integers(low=np.min(1), high=np.max(61), size=6)\n"
   ]
  },
  {
   "cell_type": "markdown",
   "metadata": {},
   "source": [
    "Sem minha data de aniversário"
   ]
  },
  {
   "cell_type": "code",
   "execution_count": 5,
   "metadata": {},
   "outputs": [
    {
     "name": "stdout",
     "output_type": "stream",
     "text": [
      "Número do concurso: [2 7 1 6]\n",
      "Soma dos numeros do concurso: 16\n",
      "Data atual: [16  1  2  0  2  5]\n",
      "Soma dos numeros da data atual: 26\n",
      "Junção dos 2 arrays (concurso e data) e soma da data e soma do número do sorteio:  [ 2  7  1  6 16  1  2  0  2  5 16 26]\n",
      "Soma de dois em dois: [ 9  7 17  2  7 42]\n",
      "Soma de três em três: [10 23  4 47]\n",
      "Soma de quatro em quatro: [16 19 49]\n",
      "Soma de cinco em cinco: [32 10 42]\n",
      "Soma de seis em seis: [33 51]\n",
      "Junção listas ate de 6 em 6 [ 2  7  1  6 16  1  2  0  2  5 16 26  9  7 17  2  7 42 10 23  4 47 16 19\n",
      " 49 32 10 42 33 51]\n",
      "Soma de sete em sete a lista juntada: [35 49 57 55 52]\n",
      "Junção de todas as listas: [ 2  7  1  6 16  1  2  0  2  5 16 26  9  7 17  2  7 42 10 23  4 47 16 19\n",
      " 49 32 10 42 33 51 35 49 57 55 52]\n",
      "Números válidos >0 e <= 60 [ 2  7  1  6 16  1  2  0  2  5 16 26  9  7 17  2  7 42 10 23  4 47 16 19\n",
      " 49 32 10 42 33 51 35 49 57 55 52]\n",
      "*** Três opçoes de jogos - Concurso: 2716 ***\n",
      "[ 2  5  6 10 52 55]\n",
      "[ 1  7 16 19 26 49]\n",
      "[ 1  9 16 16 19 33]\n",
      "****************************************************\n"
     ]
    }
   ],
   "source": [
    "from datetime import date\n",
    "import numpy as np\n",
    "\n",
    "concurso = int(input('Digite o concurso: '))\n",
    "#concurso = 2815\n",
    "# Converter o número para uma string\n",
    "concurso_str = str(concurso)\n",
    "concurso_array_digitos = np.array([int(digito) for digito in concurso_str])\n",
    "\n",
    "# Exibir o array\n",
    "print(\"Número do concurso:\", concurso_array_digitos)\n",
    "soma_concurso = np.sum(concurso_array_digitos)\n",
    "print(\"Soma dos numeros do concurso:\", soma_concurso)\n",
    "\n",
    "data_atual = date.today()\n",
    "data_em_texto = '{}/{}/{}'.format(data_atual.day, data_atual.month, data_atual.year)\n",
    "\n",
    "ano_string = str(data_atual.year)\n",
    "# Criar um array de números inteiros a partir dos dígitos do ano\n",
    "digitos_ano_atual = np.array([int(digito) for digito in str(ano_string)])\n",
    "\n",
    "\n",
    "array_hoje = np.concatenate(([data_atual.day, data_atual.month], digitos_ano_atual))\n",
    "\n",
    "print(f'Data atual: {array_hoje}')\n",
    "\n",
    "soma_data_atual = np.sum(array_hoje)\n",
    "print(\"Soma dos numeros da data atual:\", soma_data_atual)\n",
    "\n",
    "soma_concurso_data_atual = np.array([soma_concurso, soma_data_atual])\n",
    "numeros_do_sorteio = np.concatenate((concurso_array_digitos, array_hoje, soma_concurso_data_atual))\n",
    "print(f'Junção dos 2 arrays (concurso e data) e soma da data e soma do número do sorteio:  {numeros_do_sorteio}')\n",
    "\n",
    "# Função genérica para somar em blocos de tamanho n\n",
    "def somar_em_blocos(array, bloco):\n",
    "    return np.array([np.sum(array[i:i+bloco]) for i in range(0, len(array), bloco)])\n",
    "\n",
    "# Soma de dois em dois\n",
    "soma_2 = somar_em_blocos(numeros_do_sorteio, 2)\n",
    "print(\"Soma de dois em dois:\", soma_2)\n",
    "\n",
    "# Soma de três em três\n",
    "soma_3 = somar_em_blocos(numeros_do_sorteio, 3)\n",
    "print(\"Soma de três em três:\", soma_3)\n",
    "\n",
    "# Soma de quatro em quatro\n",
    "soma_4 = somar_em_blocos(numeros_do_sorteio, 4)\n",
    "print(\"Soma de quatro em quatro:\", soma_4)\n",
    "\n",
    "# Soma de cinco em cinco\n",
    "soma_5 = somar_em_blocos(numeros_do_sorteio, 5)\n",
    "print(\"Soma de cinco em cinco:\", soma_5)\n",
    "\n",
    "# Soma de seis em seis\n",
    "soma_6 = somar_em_blocos(numeros_do_sorteio, 6)\n",
    "print(\"Soma de seis em seis:\", soma_6)\n",
    "\n",
    "\n",
    "\n",
    "juncao_listas_6 = np.concatenate((numeros_do_sorteio, soma_2, soma_3, soma_4, soma_5, soma_6 ))\n",
    "print(f'Junção listas ate de 6 em 6 {juncao_listas_6}')\n",
    "\n",
    "# Soma de sete em sete\n",
    "soma_7 = somar_em_blocos(juncao_listas_6, 7)\n",
    "for numero in soma_7:\n",
    "    indice = np.where(soma_7 == numero)\n",
    "    while numero > 60:\n",
    "       numero -= data_atual.day\n",
    "       soma_7[indice] = numero       \n",
    "       continue\n",
    "    else:\n",
    "       \n",
    "       continue\n",
    "\n",
    "    \n",
    "\n",
    "print(\"Soma de sete em sete a lista juntada:\", soma_7)\n",
    "\n",
    "juncao_listas = np.concatenate((juncao_listas_6, soma_7))\n",
    "\n",
    "print(f'Junção de todas as listas: {juncao_listas }')\n",
    "\n",
    "numeros_validos = np.unique(juncao_listas)\n",
    "\n",
    "# Filtrar os números menores ou iguais a 60 e maior que 0\n",
    "numeros_validos = juncao_listas[juncao_listas > 0]\n",
    "numeros_validos = juncao_listas[juncao_listas <= 60]\n",
    "print(f'Números válidos >0 e <= 60 {numeros_validos}')\n",
    "\n",
    "# Gerar 6 números aleatórios únicos\n",
    "cont = 1\n",
    "print(f'*** Três opçoes de jogos - Concurso: {concurso} ***' )\n",
    "while cont <= 3:\n",
    "    numeros_aleatorios = np.random.choice(numeros_validos, size=6, replace=False)\n",
    "    numeros_ordenados = np.sort(numeros_aleatorios)\n",
    "    print(numeros_ordenados)\n",
    "    cont += 1\n",
    "else:\n",
    "    print('****************************************************')  "
   ]
  },
  {
   "cell_type": "markdown",
   "metadata": {},
   "source": [
    "2616 29/07/2023  \n",
    "\n",
    "#### ultimo digito = 06\n",
    "#### penultimo e ultimo  = 16\n",
    "#### day - ultimo concurso   = 23\n",
    "#### day + month  - penunltimo concurso (1)  = 35\n",
    "#### day + month + 1 concurso (2) = 38\n",
    "#### soma concurso 26 + 16 = 42 + mes(05) = 49"
   ]
  },
  {
   "cell_type": "markdown",
   "metadata": {},
   "source": []
  },
  {
   "cell_type": "markdown",
   "metadata": {},
   "source": [
    "## Resutado da simulação\n",
    "### Número do concurso: [2 8 1 6]\n",
    "### 16/1/2025\n",
    "### [ 6 21 28 29 46 47]"
   ]
  },
  {
   "cell_type": "markdown",
   "metadata": {},
   "source": []
  },
  {
   "cell_type": "markdown",
   "metadata": {},
   "source": [
    "## Resultado oficial \n",
    "### 04, 17, 19, 20, 40, 48"
   ]
  },
  {
   "cell_type": "code",
   "execution_count": null,
   "metadata": {},
   "outputs": [],
   "source": []
  }
 ],
 "metadata": {
  "kernelspec": {
   "display_name": "Python 3",
   "language": "python",
   "name": "python3"
  },
  "language_info": {
   "codemirror_mode": {
    "name": "ipython",
    "version": 3
   },
   "file_extension": ".py",
   "mimetype": "text/x-python",
   "name": "python",
   "nbconvert_exporter": "python",
   "pygments_lexer": "ipython3",
   "version": "3.13.0"
  }
 },
 "nbformat": 4,
 "nbformat_minor": 2
}
